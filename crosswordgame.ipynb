{
 "cells": [
  {
   "cell_type": "code",
   "execution_count": null,
   "id": "5c7b2bcf-5bc2-46b7-833f-761598e1266f",
   "metadata": {},
   "outputs": [
    {
     "name": "stdin",
     "output_type": "stream",
     "text": [
      "Enter your name:  divyansh\n"
     ]
    },
    {
     "name": "stdout",
     "output_type": "stream",
     "text": [
      "Hello divyansh! Welcome to the guessing game!\n",
      "_ a _ _ o o k "
     ]
    },
    {
     "name": "stdin",
     "output_type": "stream",
     "text": [
      "\n",
      "Guess a character:  m\n"
     ]
    },
    {
     "name": "stdout",
     "output_type": "stream",
     "text": [
      "m a _ _ o o k "
     ]
    },
    {
     "name": "stdin",
     "output_type": "stream",
     "text": [
      "\n",
      "Guess a character:  c\n"
     ]
    },
    {
     "name": "stdout",
     "output_type": "stream",
     "text": [
      "m a c _ o o k "
     ]
    },
    {
     "name": "stdin",
     "output_type": "stream",
     "text": [
      "\n",
      "Guess a character:  k\n"
     ]
    },
    {
     "name": "stdout",
     "output_type": "stream",
     "text": [
      "m a c _ o o k "
     ]
    },
    {
     "name": "stdin",
     "output_type": "stream",
     "text": [
      "\n",
      "Guess a character:  b\n"
     ]
    },
    {
     "name": "stdout",
     "output_type": "stream",
     "text": [
      "m a c b o o k \n",
      "You Won!\n",
      "Your score is 100\n"
     ]
    }
   ],
   "source": [
    "import random\n",
    "\n",
    "name = input(\"Enter your name: \")\n",
    "print(f\"Hello {name}! Welcome to the guessing game!\")\n",
    "words = [\"guessing\",\"apple\",\"earphones\",\"macbook\",\"python\",\n",
    "        \"television\", \"sunset\",\"opensource\"]\n",
    "# get a random word from this list\n",
    "index = random.randint(0, len(words))\n",
    "word = words[index]\n",
    "indexes = random.sample(range(0, len(word)), 3)\n",
    "guesses = \"\" #characters that the user has guessed so far\n",
    "for i in indexes:\n",
    "    guesses += word[i]\n",
    "chances = 10\n",
    "play = \"Yes\"\n",
    "\n",
    "def playagain():\n",
    "    # this will help you understad scoping\n",
    "    global play\n",
    "    play = input(\"Do you want to play again? (Yes/No): \")\n",
    "    if play == \"Yes\":\n",
    "        global chances, word, guesses\n",
    "        chances = 10\n",
    "        index = random.randint(0, len(words))\n",
    "        word = words[index]\n",
    "        indexes = random.sample(range(0, len(word)), 3)\n",
    "        guesses = \"\" \n",
    "        for i in indexes:\n",
    "            guesses += word[i]\n",
    "\n",
    "# this play is global variable\n",
    "while play == \"Yes\":\n",
    "    while chances > 0:\n",
    "        won = True\n",
    "        for ch in word:\n",
    "            if ch in guesses: # the person has guessed\n",
    "                print(ch, end=\" \")\n",
    "            else:\n",
    "                print(\"_\", end=\" \")\n",
    "                won = False\n",
    "\n",
    "        if won:\n",
    "            print(\"\\nYou Won!\")\n",
    "            print(f\"Your score is {chances * 10}\")\n",
    "            playagain()\n",
    "            break\n",
    "\n",
    "        # take a guess from the user\n",
    "        guess = input(\"\\nGuess a character: \")\n",
    "        guesses += guess\n",
    "\n",
    "        if guess not in word:\n",
    "            chances -= 1\n",
    "            print(\"\\nWrong Answer!!\")\n",
    "            print(f\"You have {chances} chances left!\")\n",
    "\n",
    "            if chances == 0:\n",
    "                print(\"You Lose!!\")\n",
    "                playagain()\n",
    "                break\n",
    "\n",
    "print(\"Thanks for playing!\")\n"
   ]
  }
 ],
 "metadata": {
  "kernelspec": {
   "display_name": "Python 3 (ipykernel)",
   "language": "python",
   "name": "python3"
  },
  "language_info": {
   "codemirror_mode": {
    "name": "ipython",
    "version": 3
   },
   "file_extension": ".py",
   "mimetype": "text/x-python",
   "name": "python",
   "nbconvert_exporter": "python",
   "pygments_lexer": "ipython3",
   "version": "3.12.3"
  }
 },
 "nbformat": 4,
 "nbformat_minor": 5
}
